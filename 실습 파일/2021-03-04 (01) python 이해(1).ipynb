{
 "cells": [
  {
   "cell_type": "code",
   "execution_count": 1,
   "metadata": {},
   "outputs": [
    {
     "name": "stdout",
     "output_type": "stream",
     "text": [
      "Python is fun!\n"
     ]
    }
   ],
   "source": [
    "head = \"Python\"\n",
    "tail = \" is fun!\"\n",
    "\n",
    "print(head+tail)"
   ]
  },
  {
   "cell_type": "code",
   "execution_count": 3,
   "metadata": {},
   "outputs": [
    {
     "name": "stdout",
     "output_type": "stream",
     "text": [
      "Python Program\n",
      "==================================================\n"
     ]
    }
   ],
   "source": [
    "print(\"=\" * 50)\n",
    "print(\"Python Program\")\n",
    "print(\"=\" * 50)\n",
    "# 문자열을 연이어서 출력하고 싶으면 *를 써주면 됨\n"
   ]
  },
  {
   "cell_type": "code",
   "execution_count": 4,
   "metadata": {},
   "outputs": [
    {
     "data": {
      "text/plain": [
       "17"
      ]
     },
     "execution_count": 4,
     "metadata": {},
     "output_type": "execute_result"
    }
   ],
   "source": [
    "a = \"Life is too short\"\n",
    "len(a)\n",
    "# 문자열의 길이 출력하는 것 -> len\n"
   ]
  },
  {
   "cell_type": "code",
   "execution_count": 6,
   "metadata": {},
   "outputs": [
    {
     "name": "stdout",
     "output_type": "stream",
     "text": [
      "L s n\n",
      "Life\n"
     ]
    }
   ],
   "source": [
    "a = \"Life is too short, You need Python\"\n",
    "print(a[0], a[12], a[-1])\n",
    "\n",
    "b = a[0] + a[1] + a[2] + a[3]\n",
    "print(b)"
   ]
  },
  {
   "cell_type": "code",
   "execution_count": 8,
   "metadata": {},
   "outputs": [
    {
     "name": "stdout",
     "output_type": "stream",
     "text": [
      "2\n"
     ]
    }
   ],
   "source": [
    "a = \"hobby\"\n",
    "\n",
    "print(a.count('b'))"
   ]
  },
  {
   "cell_type": "code",
   "execution_count": 9,
   "metadata": {},
   "outputs": [
    {
     "name": "stdout",
     "output_type": "stream",
     "text": [
      "14\n",
      "-1\n",
      "2\n"
     ]
    },
    {
     "ename": "ValueError",
     "evalue": "substring not found",
     "output_type": "error",
     "traceback": [
      "\u001b[0;31m---------------------------------------------------------------------------\u001b[0m",
      "\u001b[0;31mValueError\u001b[0m                                Traceback (most recent call last)",
      "\u001b[0;32m<ipython-input-9-9aeae9104a4d>\u001b[0m in \u001b[0;36m<module>\u001b[0;34m\u001b[0m\n\u001b[1;32m      6\u001b[0m \u001b[0;34m\u001b[0m\u001b[0m\n\u001b[1;32m      7\u001b[0m \u001b[0mprint\u001b[0m\u001b[0;34m(\u001b[0m\u001b[0ma\u001b[0m\u001b[0;34m.\u001b[0m\u001b[0mindex\u001b[0m\u001b[0;34m(\u001b[0m\u001b[0;34m't'\u001b[0m\u001b[0;34m)\u001b[0m\u001b[0;34m)\u001b[0m\u001b[0;34m\u001b[0m\u001b[0;34m\u001b[0m\u001b[0m\n\u001b[0;32m----> 8\u001b[0;31m \u001b[0mprint\u001b[0m\u001b[0;34m(\u001b[0m\u001b[0ma\u001b[0m\u001b[0;34m.\u001b[0m\u001b[0mindex\u001b[0m\u001b[0;34m(\u001b[0m\u001b[0;34m'k'\u001b[0m\u001b[0;34m)\u001b[0m\u001b[0;34m)\u001b[0m\u001b[0;34m\u001b[0m\u001b[0;34m\u001b[0m\u001b[0m\n\u001b[0m\u001b[1;32m      9\u001b[0m \u001b[0;31m# 불발시 에러를 출력\u001b[0m\u001b[0;34m\u001b[0m\u001b[0;34m\u001b[0m\u001b[0;34m\u001b[0m\u001b[0m\n",
      "\u001b[0;31mValueError\u001b[0m: substring not found"
     ]
    }
   ],
   "source": [
    "a  = \"Python is the best choice\"\n",
    "\n",
    "print(a.find('b'))\n",
    "print(a.find('k')) \n",
    "# 불발시 -1을 return\n",
    "\n",
    "print(a.index('t'))\n",
    "print(a.index('k'))\n",
    "# 불발시 에러를 출력"
   ]
  },
  {
   "cell_type": "code",
   "execution_count": 10,
   "metadata": {},
   "outputs": [
    {
     "name": "stdout",
     "output_type": "stream",
     "text": [
      "a,b,c,d\n"
     ]
    }
   ],
   "source": [
    "# 문자열 삽입\n",
    "\n",
    "x = \",\".join('abcd')\n",
    "print(x)"
   ]
  },
  {
   "cell_type": "code",
   "execution_count": 13,
   "metadata": {},
   "outputs": [
    {
     "name": "stdout",
     "output_type": "stream",
     "text": [
      "HELLO\n",
      "world\n"
     ]
    }
   ],
   "source": [
    "# 소문자를 대문자로 바꾸기 = upper\n",
    "# 대문자를 소문자로 바꾸기 = lower\n",
    "\n",
    "a = \"hello\"\n",
    "b = \"WORLD\"\n",
    "\n",
    "print(a.upper())\n",
    "print(b.lower())"
   ]
  },
  {
   "cell_type": "code",
   "execution_count": 16,
   "metadata": {},
   "outputs": [
    {
     "name": "stdout",
     "output_type": "stream",
     "text": [
      "Your leg is too short\n"
     ]
    }
   ],
   "source": [
    "# 문자열 바꾸기 = replace\n",
    "\n",
    "a = \"Life is too short\"\n",
    "a2 = a.replace(\"Life\", \"Your leg\")\n",
    "\n",
    "print(a2)"
   ]
  },
  {
   "cell_type": "code",
   "execution_count": 18,
   "metadata": {},
   "outputs": [
    {
     "name": "stdout",
     "output_type": "stream",
     "text": [
      "['Life', 'is', 'too', 'short']\n"
     ]
    },
    {
     "data": {
      "text/plain": [
       "list"
      ]
     },
     "execution_count": 18,
     "metadata": {},
     "output_type": "execute_result"
    }
   ],
   "source": [
    "# 문자열 나누기 = split\n",
    "\n",
    "b = \"Life-is-too-short\"\n",
    "b2 = b.split(\"-\")\n",
    "\n",
    "print(b2)\n",
    "type(b2)"
   ]
  },
  {
   "cell_type": "code",
   "execution_count": 21,
   "metadata": {},
   "outputs": [
    {
     "name": "stdout",
     "output_type": "stream",
     "text": [
      "a[0] =  10  a[1] =  20  a[4] =  50\n",
      "\n",
      "\n",
      "a[-1] =  50  a[-2] =  40  a[-3] =  30\n"
     ]
    }
   ],
   "source": [
    "a = [10,20,30,40,50]\n",
    "\n",
    "print(\"a[0] = \", a[0], \" a[1] = \", a[1], \" a[4] = \", a[4])\n",
    "print(\"\\n\") # 한 칸 띄어주기 = 줄바꿈\n",
    "print(\"a[-1] = \", a[-1], \" a[-2] = \", a[-2], \" a[-3] = \", a[-3])"
   ]
  },
  {
   "cell_type": "code",
   "execution_count": null,
   "metadata": {},
   "outputs": [],
   "source": []
  },
  {
   "cell_type": "code",
   "execution_count": 25,
   "metadata": {},
   "outputs": [
    {
     "name": "stdout",
     "output_type": "stream",
     "text": [
      "b[2] =  안녕 b[3] =  세계  b[4] =  [True, 3.14]\n",
      "b[-1][-1] =  3.14  b[-1][-2] =  True\n"
     ]
    }
   ],
   "source": [
    "b = [10, 20, \"안녕\", \"세계\",  [True, 3.14]]\n",
    "\n",
    "print(\"b[2] = \", b[2], \"b[3] = \", b[3], \" b[4] = \", b[4])\n",
    "print(\"b[-1][-1] = \", b[-1][-1], \" b[-1][-2] = \", b[-1][-2])"
   ]
  },
  {
   "cell_type": "code",
   "execution_count": 28,
   "metadata": {},
   "outputs": [
    {
     "name": "stdout",
     "output_type": "stream",
     "text": [
      "[100, 200, 'Hello']\n"
     ]
    }
   ],
   "source": [
    "# list에서 원소 추가하는 방법\n",
    "\n",
    "c = []\n",
    "c.append(100), c.append(200), c.append(\"Hello\")\n",
    "\n",
    "print(c)"
   ]
  },
  {
   "cell_type": "code",
   "execution_count": 29,
   "metadata": {},
   "outputs": [
    {
     "name": "stdout",
     "output_type": "stream",
     "text": [
      "[100, 200, 300, 'Hello']\n"
     ]
    }
   ],
   "source": [
    "c.insert(2,300)\n",
    "#  index 2에 300이라는 원소 삽입\n",
    "print(c)"
   ]
  },
  {
   "cell_type": "code",
   "execution_count": 30,
   "metadata": {},
   "outputs": [
    {
     "name": "stdout",
     "output_type": "stream",
     "text": [
      "[100, 300, 'Hello']\n"
     ]
    }
   ],
   "source": [
    "# list에서 원소 제거하는 방법\n",
    "\n",
    "del c[1] #index 1의 원소 제거\n",
    "print(c)"
   ]
  },
  {
   "cell_type": "code",
   "execution_count": 31,
   "metadata": {},
   "outputs": [
    {
     "name": "stdout",
     "output_type": "stream",
     "text": [
      "[300, 'Hello']\n"
     ]
    }
   ],
   "source": [
    "c.remove(100) # 리스트 내에서 100이라는 원소를 제거\n",
    "print(c)"
   ]
  },
  {
   "cell_type": "code",
   "execution_count": 36,
   "metadata": {},
   "outputs": [
    {
     "name": "stdout",
     "output_type": "stream",
     "text": [
      "a[0:2] = [10, 20]  a[1:] =  [20, 30, 40, 50]\n",
      "\n",
      "\n",
      "a[:3] = [10, 20, 30]  a[:-2] =  [10, 20, 30]\n",
      "\n",
      "\n",
      "a[:] = [10, 20, 30, 40, 50]\n"
     ]
    }
   ],
   "source": [
    "# list에서 구간 선택하기\n",
    "\n",
    "a = [10,20,30,40,50]\n",
    "print(\"a[0:2] =\", a[0:2], \" a[1:] =\", a[1:])\n",
    "print(\"\\n\")\n",
    "print(\"a[:3] =\", a[:3], \" a[:-2] =\", a[:-2])\n",
    "print(\"\\n\")\n",
    "print(\"a[:] =\", a[:])\n",
    "\n"
   ]
  },
  {
   "cell_type": "code",
   "execution_count": 38,
   "metadata": {},
   "outputs": [
    {
     "name": "stdout",
     "output_type": "stream",
     "text": [
      "[2, 4, 6, 2, 4, 6, 2, 4, 6]\n"
     ]
    }
   ],
   "source": [
    "# list 반복\n",
    "m = [2,4,6]\n",
    "n = [3,6]\n",
    "\n",
    "m3 = m*3\n",
    "print(m3)"
   ]
  },
  {
   "cell_type": "code",
   "execution_count": 39,
   "metadata": {},
   "outputs": [
    {
     "name": "stdout",
     "output_type": "stream",
     "text": [
      "수정 전 리스트 :  [10, 20, 30, 40, 50]\n",
      "수정 후 리스트 :  [10, 20, 700, 40, 50]\n"
     ]
    }
   ],
   "source": [
    "a = [10,20,30,40,50]\n",
    "print(\"수정 전 리스트 : \", a)\n",
    "\n",
    "a[2] = 700\n",
    "print(\"수정 후 리스트 : \", a)"
   ]
  },
  {
   "cell_type": "code",
   "execution_count": 41,
   "metadata": {},
   "outputs": [
    {
     "name": "stdout",
     "output_type": "stream",
     "text": [
      "[10, 20, 30, 40, 50]\n",
      "['a', 'c', 'f', 'm', 'z']\n"
     ]
    }
   ],
   "source": [
    "# sort\n",
    "\n",
    "d = [50,40,20,30,10]\n",
    "d2 = [\"z\", \"c\", \"a\", \"f\", \"m\"]\n",
    "\n",
    "d.sort()\n",
    "d2.sort()\n",
    "print(d)\n",
    "print(d2)\n",
    "\n",
    "# 근데  리스트 안에 문자와 숫자가 섞여 있으면 에러가 발생"
   ]
  },
  {
   "cell_type": "code",
   "execution_count": 42,
   "metadata": {},
   "outputs": [
    {
     "name": "stdout",
     "output_type": "stream",
     "text": [
      "() (1,) (1, 2, 3) (1, 2, 3) ('a', 'b')\n"
     ]
    }
   ],
   "source": [
    "# 튜플 => 내용 수정, 삭제 불가\n",
    "\n",
    "a1 = ()\n",
    "a2 = (1,) # 1개의 원소만 가질 경우 원소 뒤에 콤마를 반드시 붙여야 함\n",
    "a3 = (1,2,3)\n",
    "a4 = 1, 2, 3 # 원소가 복수개일 경우, 괄호 생략 가능(비추천)\n",
    "a5 = ('a', 'b')\n",
    "\n",
    "print(a1, a2, a3, a4, a5)"
   ]
  },
  {
   "cell_type": "code",
   "execution_count": 44,
   "metadata": {},
   "outputs": [
    {
     "ename": "TypeError",
     "evalue": "'tuple' object doesn't support item deletion",
     "output_type": "error",
     "traceback": [
      "\u001b[0;31m---------------------------------------------------------------------------\u001b[0m",
      "\u001b[0;31mTypeError\u001b[0m                                 Traceback (most recent call last)",
      "\u001b[0;32m<ipython-input-44-1b88ced7c73e>\u001b[0m in \u001b[0;36m<module>\u001b[0;34m\u001b[0m\n\u001b[1;32m      1\u001b[0m \u001b[0;31m# 튜플 내 원소를 삭제하려 한다면 에러 발생\u001b[0m\u001b[0;34m\u001b[0m\u001b[0;34m\u001b[0m\u001b[0;34m\u001b[0m\u001b[0m\n\u001b[1;32m      2\u001b[0m \u001b[0mb1\u001b[0m \u001b[0;34m=\u001b[0m \u001b[0;34m(\u001b[0m\u001b[0;36m1\u001b[0m\u001b[0;34m,\u001b[0m \u001b[0;36m2\u001b[0m\u001b[0;34m,\u001b[0m \u001b[0;34m'a'\u001b[0m\u001b[0;34m,\u001b[0m \u001b[0;34m'b'\u001b[0m\u001b[0;34m)\u001b[0m\u001b[0;34m\u001b[0m\u001b[0;34m\u001b[0m\u001b[0m\n\u001b[0;32m----> 3\u001b[0;31m \u001b[0;32mdel\u001b[0m \u001b[0mb1\u001b[0m\u001b[0;34m[\u001b[0m\u001b[0;36m0\u001b[0m\u001b[0;34m]\u001b[0m\u001b[0;34m\u001b[0m\u001b[0;34m\u001b[0m\u001b[0m\n\u001b[0m\u001b[1;32m      4\u001b[0m \u001b[0;34m\u001b[0m\u001b[0m\n\u001b[1;32m      5\u001b[0m \u001b[0;31m# 튜플 내 원소를 수정하려 한다면 에러 발생\u001b[0m\u001b[0;34m\u001b[0m\u001b[0;34m\u001b[0m\u001b[0;34m\u001b[0m\u001b[0m\n",
      "\u001b[0;31mTypeError\u001b[0m: 'tuple' object doesn't support item deletion"
     ]
    }
   ],
   "source": [
    "# 튜플 내 원소를 삭제하려 한다면 에러 발생\n",
    "b1 = (1, 2, 'a', 'b')\n",
    "del b1[0]\n",
    "\n",
    "# 튜플 내 원소를 수정하려 한다면 에러 발생\n",
    "b1 = (1, 2, 'a', 'b')\n",
    "b1[0] = 'c'"
   ]
  },
  {
   "cell_type": "code",
   "execution_count": null,
   "metadata": {},
   "outputs": [],
   "source": []
  }
 ],
 "metadata": {
  "kernelspec": {
   "display_name": "Python 3",
   "language": "python",
   "name": "python3"
  },
  "language_info": {
   "codemirror_mode": {
    "name": "ipython",
    "version": 3
   },
   "file_extension": ".py",
   "mimetype": "text/x-python",
   "name": "python",
   "nbconvert_exporter": "python",
   "pygments_lexer": "ipython3",
   "version": "3.8.5"
  }
 },
 "nbformat": 4,
 "nbformat_minor": 4
}
